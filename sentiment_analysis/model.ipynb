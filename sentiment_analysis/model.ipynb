{
 "cells": [
  {
   "cell_type": "code",
   "execution_count": 54,
   "id": "0db00542",
   "metadata": {},
   "outputs": [
    {
     "name": "stderr",
     "output_type": "stream",
     "text": [
      "[nltk_data] Downloading package stopwords to\n",
      "[nltk_data]     C:\\Users\\GANAPRIYA\\AppData\\Roaming\\nltk_data...\n",
      "[nltk_data]   Package stopwords is already up-to-date!\n",
      "[nltk_data] Downloading package punkt to\n",
      "[nltk_data]     C:\\Users\\GANAPRIYA\\AppData\\Roaming\\nltk_data...\n",
      "[nltk_data]   Package punkt is already up-to-date!\n",
      "[nltk_data] Downloading package wordnet to\n",
      "[nltk_data]     C:\\Users\\GANAPRIYA\\AppData\\Roaming\\nltk_data...\n",
      "[nltk_data]   Package wordnet is already up-to-date!\n",
      "[nltk_data] Downloading package omw-1.4 to\n",
      "[nltk_data]     C:\\Users\\GANAPRIYA\\AppData\\Roaming\\nltk_data...\n",
      "[nltk_data]   Package omw-1.4 is already up-to-date!\n"
     ]
    },
    {
     "name": "stdout",
     "output_type": "stream",
     "text": [
      "127\n",
      "[[    0     0     0 ... 10654  7659 39156]\n",
      " [    0     0     0 ...     0  5961 13723]\n",
      " [    0     0     0 ...     0     0  8377]\n",
      " ...\n",
      " [    0     0     0 ...     0     0 23799]\n",
      " [    0     0     0 ...     0  6224 23799]\n",
      " [    0     0     0 ...     0  6224  3646]]\n"
     ]
    }
   ],
   "source": [
    "%run .\\word_embedding.ipynb"
   ]
  },
  {
   "cell_type": "code",
   "execution_count": 55,
   "id": "65f83e30",
   "metadata": {},
   "outputs": [],
   "source": [
    "import numpy as np\n",
    "import pickle,itertools\n",
    "import matplotlib.pyplot as plt\n",
    "\n",
    "from keras_tuner.tuners import RandomSearch\n",
    "from keras_tuner.engine.hyperparameters import HyperParameters\n",
    "from tensorflow.keras import layers"
   ]
  },
  {
   "cell_type": "code",
   "execution_count": 56,
   "id": "2ad5b560",
   "metadata": {},
   "outputs": [
    {
     "data": {
      "text/plain": [
       "127"
      ]
     },
     "execution_count": 56,
     "metadata": {},
     "output_type": "execute_result"
    }
   ],
   "source": [
    "maxlen"
   ]
  },
  {
   "cell_type": "code",
   "execution_count": 57,
   "id": "b87d9962",
   "metadata": {},
   "outputs": [],
   "source": [
    "from tensorflow.keras import optimizers, regularizers\n",
    "from tensorflow.keras.preprocessing.text import Tokenizer\n",
    "from tensorflow.keras.utils import to_categorical\n",
    "from tensorflow.keras.layers import Embedding,Dropout, LSTM, Bidirectional,Dense, Input, Flatten\n",
    "from tensorflow.keras.models import Model,load_model,Sequential\n",
    "from tensorflow.keras.preprocessing.sequence import pad_sequences\n",
    "from tensorflow.keras.preprocessing.text import one_hot"
   ]
  },
  {
   "cell_type": "code",
   "execution_count": 58,
   "id": "1ad0132e",
   "metadata": {},
   "outputs": [],
   "source": [
    "from sklearn.model_selection import train_test_split\n",
    "from sklearn.metrics import classification_report, confusion_matrix"
   ]
  },
  {
   "cell_type": "code",
   "execution_count": 67,
   "id": "3233d928",
   "metadata": {},
   "outputs": [],
   "source": [
    "def build_model(hp):\n",
    "    model = Sequential()\n",
    "    model.add(Embedding(input_dim = MAX_NB_WORDS,\n",
    "              output_dim = EMBEDDING_DIM,\n",
    "              input_length = maxlen,\n",
    "             ))\n",
    "    for i in range(hp.Int('num_layers',1 , 3)):\n",
    "        model.add(LSTM(units=hp.Int('units_' + str(i),\n",
    "                                            min_value=32,\n",
    "                                            max_value=256,\n",
    "                                            step=32),\n",
    "                               return_sequences=True,dropout=0.0, recurrent_dropout=0.0))\n",
    "    model.add(LSTM(units=hp.Int('lstm',\n",
    "                                            min_value=32,\n",
    "                                            max_value=256,\n",
    "                                            step=32),dropout=0.3, recurrent_dropout=0.0))\n",
    "    model.add(layers.Dense(5, activation='softmax'))\n",
    "    model.compile(\n",
    "        optimizer='adam',\n",
    "        loss='categorical_crossentropy',\n",
    "        metrics=['accuracy'])\n",
    "    return model"
   ]
  },
  {
   "cell_type": "code",
   "execution_count": 68,
   "id": "6812cbcb",
   "metadata": {},
   "outputs": [],
   "source": [
    "tuner=RandomSearch(\n",
    "                          build_model,\n",
    "                          objective='val_loss',\n",
    "                          max_trials=3,\n",
    "                          executions_per_trial=1,\n",
    "                          overwrite=True,\n",
    "                          directory='output',\n",
    "                          project_name=\"sentiment_analytics\")"
   ]
  },
  {
   "cell_type": "code",
   "execution_count": 69,
   "id": "5db471ab",
   "metadata": {},
   "outputs": [
    {
     "name": "stdout",
     "output_type": "stream",
     "text": [
      "Search space summary\n",
      "Default search space size: 0\n"
     ]
    }
   ],
   "source": [
    "tuner.search_space_summary()"
   ]
  },
  {
   "cell_type": "code",
   "execution_count": 70,
   "id": "2c768dc1",
   "metadata": {},
   "outputs": [
    {
     "name": "stdout",
     "output_type": "stream",
     "text": [
      "Trial 1 Complete [00h 16m 23s]\n",
      "val_loss: 1.2734133005142212\n",
      "\n",
      "Best val_loss So Far: 1.2734133005142212\n",
      "Total elapsed time: 00h 16m 23s\n",
      "INFO:tensorflow:Oracle triggered exit\n"
     ]
    }
   ],
   "source": [
    "tuner.search(x_train, y_train,\n",
    "             epochs=40,\n",
    "             validation_data=(x_val, y_val))"
   ]
  },
  {
   "cell_type": "code",
   "execution_count": 72,
   "id": "4eff1940",
   "metadata": {},
   "outputs": [
    {
     "name": "stdout",
     "output_type": "stream",
     "text": [
      "Results summary\n",
      "Results in output\\sentiment_analytics\n",
      "Showing 10 best trials\n",
      "<keras_tuner.engine.objective.Objective object at 0x000002538D881760>\n",
      "Trial summary\n",
      "Hyperparameters:\n",
      "default configuration\n",
      "Score: 1.2734133005142212\n"
     ]
    }
   ],
   "source": [
    "tuner.results_summary()"
   ]
  },
  {
   "cell_type": "code",
   "execution_count": 73,
   "id": "0d64a9e6",
   "metadata": {},
   "outputs": [],
   "source": [
    "model=tuner.get_best_models(num_models=1)[0]"
   ]
  },
  {
   "cell_type": "code",
   "execution_count": 74,
   "id": "5d079f54",
   "metadata": {},
   "outputs": [
    {
     "name": "stdout",
     "output_type": "stream",
     "text": [
      "Model: \"sequential\"\n",
      "_________________________________________________________________\n",
      " Layer (type)                Output Shape              Param #   \n",
      "=================================================================\n",
      " embedding (Embedding)       (None, 127, 100)          4000000   \n",
      "                                                                 \n",
      " lstm (LSTM)                 (None, 100)               80400     \n",
      "                                                                 \n",
      " dense (Dense)               (None, 5)                 505       \n",
      "                                                                 \n",
      "=================================================================\n",
      "Total params: 4,080,905\n",
      "Trainable params: 4,080,905\n",
      "Non-trainable params: 0\n",
      "_________________________________________________________________\n"
     ]
    }
   ],
   "source": [
    "model.summary()"
   ]
  },
  {
   "cell_type": "code",
   "execution_count": null,
   "id": "2fca79d5",
   "metadata": {},
   "outputs": [],
   "source": []
  },
  {
   "cell_type": "code",
   "execution_count": 76,
   "id": "418f8a45",
   "metadata": {},
   "outputs": [],
   "source": [
    "model.save('sentiment_analysis1.h5')"
   ]
  },
  {
   "cell_type": "code",
   "execution_count": 151,
   "id": "b8cac636",
   "metadata": {},
   "outputs": [],
   "source": [
    "# Sequential\n",
    "\n",
    "model=Sequential()\n",
    "model.add(Embedding(input_dim = MAX_NB_WORDS,\n",
    "              output_dim = EMBEDDING_DIM,\n",
    "              input_length = maxlen\n",
    "#               weights = [embedding_matrix],\n",
    "#               trainable = False\n",
    "             ))\n",
    "model.add(Bidirectional(LSTM(224,return_sequences=True,dropout=0.0, recurrent_dropout=0.0))) # 1 lstm layer with 100 neurons\n",
    "model.add(Bidirectional(LSTM(224,return_sequences=True,dropout=0.0, recurrent_dropout=0.0)))\n",
    "model.add(Bidirectional(LSTM(32,dropout=0.3, recurrent_dropout=0.0)))\n",
    "model.add(Dense(5, activation='softmax'))"
   ]
  },
  {
   "cell_type": "code",
   "execution_count": 38,
   "id": "1206d6b3",
   "metadata": {},
   "outputs": [],
   "source": [
    "# Functional API\n",
    "\n",
    "sequence_input =Input(shape=(maxlen,), dtype='int32')\n",
    "# static channel\n",
    "\n",
    "# non-static channel\n",
    "embedding_layer_train = Embedding(MAX_NB_WORDS,\n",
    "                            EMBEDDING_DIM,\n",
    "#                             weights=[embedding_matrix],\n",
    "                            input_length=maxlen,\n",
    "#                             trainable=True\n",
    "                                 )\n",
    "embedded_sequences_train = embedding_layer_train(sequence_input)\n",
    "lstm1 = Bidirectional(LSTM(100,return_sequences=True,dropout=0.0, recurrent_dropout=0.0))(embedded_sequences_train)\n",
    "lstm2 = Bidirectional(LSTM(200,return_sequences=True,dropout=0.0, recurrent_dropout=0.0))(lstm1)\n",
    "lstm3 = Bidirectional(LSTM(200,dropout=0.3, recurrent_dropout=0.0))(lstm2)\n",
    "preds = Dense(5, activation='softmax')(lstm3)\n",
    "model = Model(sequence_input, preds)"
   ]
  },
  {
   "cell_type": "code",
   "execution_count": 152,
   "id": "6fa6e75f",
   "metadata": {},
   "outputs": [],
   "source": [
    "model.compile(loss='categorical_crossentropy',\n",
    "              optimizer='adam',\n",
    "              metrics = ['accuracy'])"
   ]
  },
  {
   "cell_type": "code",
   "execution_count": 153,
   "id": "7938dafe",
   "metadata": {},
   "outputs": [
    {
     "name": "stdout",
     "output_type": "stream",
     "text": [
      "Model: \"sequential_1\"\n",
      "_________________________________________________________________\n",
      " Layer (type)                Output Shape              Param #   \n",
      "=================================================================\n",
      " embedding_1 (Embedding)     (None, 127, 200)          8000000   \n",
      "                                                                 \n",
      " bidirectional (Bidirectiona  (None, 127, 448)         761600    \n",
      " l)                                                              \n",
      "                                                                 \n",
      " bidirectional_1 (Bidirectio  (None, 127, 448)         1206016   \n",
      " nal)                                                            \n",
      "                                                                 \n",
      " bidirectional_2 (Bidirectio  (None, 64)               123136    \n",
      " nal)                                                            \n",
      "                                                                 \n",
      " dense_1 (Dense)             (None, 5)                 325       \n",
      "                                                                 \n",
      "=================================================================\n",
      "Total params: 10,091,077\n",
      "Trainable params: 10,091,077\n",
      "Non-trainable params: 0\n",
      "_________________________________________________________________\n"
     ]
    }
   ],
   "source": [
    "model.summary()"
   ]
  },
  {
   "cell_type": "code",
   "execution_count": 9,
   "id": "bd931ffd",
   "metadata": {},
   "outputs": [],
   "source": [
    "model.save('sentiment_analysis1.h5')"
   ]
  },
  {
   "attachments": {
    "image.png": {
     "image/png": "[encoded data removed]"
    }
   },
   "cell_type": "markdown",
   "id": "a0ea18d8",
   "metadata": {},
   "source": [
    "![image.png](attachment:image.png)"
   ]
  },
  {
   "cell_type": "code",
   "execution_count": 1,
   "id": "c9408abd",
   "metadata": {},
   "outputs": [
    {
     "ename": "NameError",
     "evalue": "name 'load_model' is not defined",
     "output_type": "error",
     "traceback": [
      "\u001b[1;31m---------------------------------------------------------------------------\u001b[0m",
      "\u001b[1;31mNameError\u001b[0m                                 Traceback (most recent call last)",
      "Cell \u001b[1;32mIn [1], line 1\u001b[0m\n\u001b[1;32m----> 1\u001b[0m model \u001b[38;5;241m=\u001b[39m \u001b[43mload_model\u001b[49m(\u001b[38;5;124m\"\u001b[39m\u001b[38;5;124msentiment_analysis_model.h5\u001b[39m\u001b[38;5;124m\"\u001b[39m)\n",
      "\u001b[1;31mNameError\u001b[0m: name 'load_model' is not defined"
     ]
    }
   ],
   "source": [
    "model = load_model(\"sentiment_analysis_model.h5\")"
   ]
  },
  {
   "cell_type": "code",
   "execution_count": 136,
   "id": "5809c836",
   "metadata": {},
   "outputs": [
    {
     "name": "stdout",
     "output_type": "stream",
     "text": [
      "Model: \"sequential\"\n",
      "_________________________________________________________________\n",
      " Layer (type)                Output Shape              Param #   \n",
      "=================================================================\n",
      " embedding (Embedding)       (None, 127, 200)          8000000   \n",
      "                                                                 \n",
      " bidirectional (Bidirectiona  (None, 127, 448)         761600    \n",
      " l)                                                              \n",
      "                                                                 \n",
      " bidirectional_1 (Bidirectio  (None, 127, 448)         1206016   \n",
      " nal)                                                            \n",
      "                                                                 \n",
      " bidirectional_2 (Bidirectio  (None, 64)               123136    \n",
      " nal)                                                            \n",
      "                                                                 \n",
      " dense (Dense)               (None, 5)                 325       \n",
      "                                                                 \n",
      "=================================================================\n",
      "Total params: 10,091,077\n",
      "Trainable params: 10,091,077\n",
      "Non-trainable params: 0\n",
      "_________________________________________________________________\n"
     ]
    }
   ],
   "source": [
    "model.summary()"
   ]
  },
  {
   "cell_type": "code",
   "execution_count": 154,
   "id": "c946bb2a",
   "metadata": {},
   "outputs": [
    {
     "name": "stdout",
     "output_type": "stream",
     "text": [
      "Epoch 1/100\n",
      "350/350 [==============================] - 123s 279ms/step - loss: 1.4141 - accuracy: 0.3670 - val_loss: 1.3247 - val_accuracy: 0.4257\n",
      "Epoch 2/100\n",
      "350/350 [==============================] - 97s 277ms/step - loss: 1.2137 - accuracy: 0.4840 - val_loss: 1.2833 - val_accuracy: 0.4486\n",
      "Epoch 3/100\n",
      "350/350 [==============================] - 97s 278ms/step - loss: 1.0699 - accuracy: 0.5552 - val_loss: 1.2648 - val_accuracy: 0.4665\n",
      "Epoch 4/100\n",
      "350/350 [==============================] - 97s 279ms/step - loss: 0.9526 - accuracy: 0.6057 - val_loss: 1.2947 - val_accuracy: 0.4731\n",
      "Epoch 5/100\n",
      "350/350 [==============================] - 98s 279ms/step - loss: 0.8553 - accuracy: 0.6439 - val_loss: 1.3211 - val_accuracy: 0.4801\n",
      "Epoch 6/100\n",
      "350/350 [==============================] - 97s 279ms/step - loss: 0.7774 - accuracy: 0.6693 - val_loss: 1.4022 - val_accuracy: 0.4845\n",
      "Epoch 7/100\n",
      "350/350 [==============================] - 97s 278ms/step - loss: 0.7128 - accuracy: 0.6888 - val_loss: 1.4463 - val_accuracy: 0.4883\n",
      "Epoch 8/100\n",
      "350/350 [==============================] - 97s 278ms/step - loss: 0.6588 - accuracy: 0.7061 - val_loss: 1.5348 - val_accuracy: 0.4936\n",
      "Epoch 9/100\n",
      "350/350 [==============================] - 98s 279ms/step - loss: 0.6162 - accuracy: 0.7214 - val_loss: 1.5970 - val_accuracy: 0.4985\n",
      "Epoch 10/100\n",
      "350/350 [==============================] - 98s 281ms/step - loss: 0.5813 - accuracy: 0.7319 - val_loss: 1.6194 - val_accuracy: 0.5028\n",
      "Epoch 11/100\n",
      "350/350 [==============================] - 98s 281ms/step - loss: 0.5457 - accuracy: 0.7447 - val_loss: 1.7533 - val_accuracy: 0.5053\n",
      "Epoch 12/100\n",
      "350/350 [==============================] - 98s 279ms/step - loss: 0.5155 - accuracy: 0.7549 - val_loss: 1.8197 - val_accuracy: 0.5048\n",
      "Epoch 13/100\n",
      "350/350 [==============================] - 97s 278ms/step - loss: 0.4847 - accuracy: 0.7642 - val_loss: 1.8480 - val_accuracy: 0.5031\n",
      "Epoch 14/100\n",
      "350/350 [==============================] - 97s 277ms/step - loss: 0.4688 - accuracy: 0.7728 - val_loss: 1.9149 - val_accuracy: 0.5093\n",
      "Epoch 15/100\n",
      "350/350 [==============================] - 97s 277ms/step - loss: 0.4455 - accuracy: 0.7822 - val_loss: 2.0167 - val_accuracy: 0.5160\n",
      "Epoch 16/100\n",
      "350/350 [==============================] - 97s 277ms/step - loss: 0.4199 - accuracy: 0.7924 - val_loss: 2.1784 - val_accuracy: 0.5118\n",
      "Epoch 17/100\n",
      "350/350 [==============================] - 101s 289ms/step - loss: 0.4087 - accuracy: 0.7955 - val_loss: 2.1205 - val_accuracy: 0.5129\n",
      "Epoch 18/100\n",
      "350/350 [==============================] - 102s 291ms/step - loss: 0.3913 - accuracy: 0.8037 - val_loss: 2.1881 - val_accuracy: 0.5156\n",
      "Epoch 19/100\n",
      "350/350 [==============================] - 102s 291ms/step - loss: 0.3752 - accuracy: 0.8078 - val_loss: 2.2773 - val_accuracy: 0.5119\n",
      "Epoch 20/100\n",
      "350/350 [==============================] - 102s 291ms/step - loss: 0.3658 - accuracy: 0.8142 - val_loss: 2.3031 - val_accuracy: 0.5182\n",
      "Epoch 21/100\n",
      "350/350 [==============================] - 244s 699ms/step - loss: 0.3534 - accuracy: 0.8168 - val_loss: 2.3926 - val_accuracy: 0.5195\n",
      "Epoch 22/100\n",
      "350/350 [==============================] - 88s 250ms/step - loss: 0.3420 - accuracy: 0.8227 - val_loss: 2.4365 - val_accuracy: 0.5181\n",
      "Epoch 23/100\n",
      "350/350 [==============================] - 87s 250ms/step - loss: 0.3335 - accuracy: 0.8268 - val_loss: 2.4427 - val_accuracy: 0.5155\n",
      "Epoch 24/100\n",
      "350/350 [==============================] - 87s 250ms/step - loss: 0.3287 - accuracy: 0.8283 - val_loss: 2.4817 - val_accuracy: 0.5143\n",
      "Epoch 25/100\n",
      "350/350 [==============================] - 87s 249ms/step - loss: 0.3211 - accuracy: 0.8327 - val_loss: 2.5988 - val_accuracy: 0.5163\n",
      "Epoch 26/100\n",
      "350/350 [==============================] - 87s 250ms/step - loss: 0.3077 - accuracy: 0.8367 - val_loss: 2.6175 - val_accuracy: 0.5196\n",
      "Epoch 27/100\n",
      "350/350 [==============================] - 87s 249ms/step - loss: 0.3036 - accuracy: 0.8403 - val_loss: 2.6621 - val_accuracy: 0.5125\n",
      "Epoch 28/100\n",
      "350/350 [==============================] - 87s 249ms/step - loss: 0.2994 - accuracy: 0.8406 - val_loss: 2.7286 - val_accuracy: 0.5188\n",
      "Epoch 29/100\n",
      "350/350 [==============================] - 87s 250ms/step - loss: 0.2964 - accuracy: 0.8419 - val_loss: 2.7899 - val_accuracy: 0.5189\n",
      "Epoch 30/100\n",
      "350/350 [==============================] - 88s 250ms/step - loss: 0.2874 - accuracy: 0.8448 - val_loss: 2.7988 - val_accuracy: 0.5133\n",
      "Epoch 31/100\n",
      "350/350 [==============================] - 88s 250ms/step - loss: 0.2840 - accuracy: 0.8464 - val_loss: 2.8499 - val_accuracy: 0.5181\n",
      "Epoch 32/100\n",
      "350/350 [==============================] - 88s 250ms/step - loss: 0.2804 - accuracy: 0.8475 - val_loss: 2.8100 - val_accuracy: 0.5201\n",
      "Epoch 33/100\n",
      "350/350 [==============================] - 88s 251ms/step - loss: 0.2809 - accuracy: 0.8480 - val_loss: 2.8893 - val_accuracy: 0.5150\n",
      "Epoch 34/100\n",
      "350/350 [==============================] - 87s 250ms/step - loss: 0.2750 - accuracy: 0.8514 - val_loss: 2.8359 - val_accuracy: 0.5174\n",
      "Epoch 35/100\n",
      "350/350 [==============================] - 87s 250ms/step - loss: 0.2722 - accuracy: 0.8517 - val_loss: 2.9107 - val_accuracy: 0.5174\n",
      "Epoch 36/100\n",
      "350/350 [==============================] - 87s 250ms/step - loss: 0.2642 - accuracy: 0.8555 - val_loss: 2.9493 - val_accuracy: 0.5218\n",
      "Epoch 37/100\n",
      "350/350 [==============================] - 87s 248ms/step - loss: 0.2616 - accuracy: 0.8545 - val_loss: 3.0927 - val_accuracy: 0.5191\n",
      "Epoch 38/100\n",
      "350/350 [==============================] - 87s 249ms/step - loss: 0.2597 - accuracy: 0.8567 - val_loss: 3.0612 - val_accuracy: 0.5176\n",
      "Epoch 39/100\n",
      "350/350 [==============================] - 88s 251ms/step - loss: 0.2653 - accuracy: 0.8557 - val_loss: 2.9210 - val_accuracy: 0.5166\n",
      "Epoch 40/100\n",
      "350/350 [==============================] - 88s 251ms/step - loss: 0.2621 - accuracy: 0.8564 - val_loss: 3.0239 - val_accuracy: 0.5182\n",
      "Epoch 41/100\n",
      "350/350 [==============================] - 88s 252ms/step - loss: 0.2542 - accuracy: 0.8585 - val_loss: 3.0676 - val_accuracy: 0.5186\n",
      "Epoch 42/100\n",
      "350/350 [==============================] - 88s 253ms/step - loss: 0.2475 - accuracy: 0.8607 - val_loss: 3.1509 - val_accuracy: 0.5171\n",
      "Epoch 43/100\n",
      "350/350 [==============================] - 88s 253ms/step - loss: 0.2469 - accuracy: 0.8611 - val_loss: 3.2016 - val_accuracy: 0.5144\n",
      "Epoch 44/100\n",
      "350/350 [==============================] - 88s 253ms/step - loss: 0.2508 - accuracy: 0.8600 - val_loss: 3.1427 - val_accuracy: 0.5177\n",
      "Epoch 45/100\n",
      "350/350 [==============================] - 88s 253ms/step - loss: 0.2484 - accuracy: 0.8605 - val_loss: 3.1702 - val_accuracy: 0.5113\n",
      "Epoch 46/100\n",
      "350/350 [==============================] - 89s 254ms/step - loss: 0.2420 - accuracy: 0.8611 - val_loss: 3.2833 - val_accuracy: 0.5201\n",
      "Epoch 47/100\n",
      "350/350 [==============================] - 88s 252ms/step - loss: 0.2406 - accuracy: 0.8636 - val_loss: 3.2016 - val_accuracy: 0.5206\n",
      "Epoch 48/100\n",
      "350/350 [==============================] - 88s 252ms/step - loss: 0.2419 - accuracy: 0.8630 - val_loss: 3.3011 - val_accuracy: 0.5199\n",
      "Epoch 49/100\n",
      "350/350 [==============================] - 88s 253ms/step - loss: 0.2505 - accuracy: 0.8613 - val_loss: 3.1590 - val_accuracy: 0.5143\n",
      "Epoch 50/100\n",
      "350/350 [==============================] - 88s 253ms/step - loss: 0.2407 - accuracy: 0.8643 - val_loss: 3.2542 - val_accuracy: 0.5186\n",
      "Epoch 51/100\n",
      "350/350 [==============================] - 88s 253ms/step - loss: 0.2348 - accuracy: 0.8652 - val_loss: 3.2590 - val_accuracy: 0.5188\n",
      "Epoch 52/100\n",
      "350/350 [==============================] - 88s 252ms/step - loss: 0.2319 - accuracy: 0.8660 - val_loss: 3.2982 - val_accuracy: 0.5190\n",
      "Epoch 53/100\n",
      "350/350 [==============================] - 89s 253ms/step - loss: 0.2342 - accuracy: 0.8654 - val_loss: 3.2642 - val_accuracy: 0.5197\n",
      "Epoch 54/100\n",
      "350/350 [==============================] - 88s 253ms/step - loss: 0.2388 - accuracy: 0.8651 - val_loss: 3.2564 - val_accuracy: 0.5170\n",
      "Epoch 55/100\n",
      "350/350 [==============================] - 88s 253ms/step - loss: 0.2327 - accuracy: 0.8669 - val_loss: 3.3434 - val_accuracy: 0.5187\n",
      "Epoch 56/100\n",
      "350/350 [==============================] - 89s 253ms/step - loss: 0.2245 - accuracy: 0.8693 - val_loss: 3.3804 - val_accuracy: 0.5217\n"
     ]
    },
    {
     "name": "stdout",
     "output_type": "stream",
     "text": [
      "Epoch 57/100\n",
      "350/350 [==============================] - 89s 253ms/step - loss: 0.2237 - accuracy: 0.8687 - val_loss: 3.4739 - val_accuracy: 0.5181\n",
      "Epoch 58/100\n",
      "350/350 [==============================] - 89s 254ms/step - loss: 0.2357 - accuracy: 0.8647 - val_loss: 3.3067 - val_accuracy: 0.5177\n",
      "Epoch 59/100\n",
      "350/350 [==============================] - 89s 254ms/step - loss: 0.2393 - accuracy: 0.8657 - val_loss: 3.3306 - val_accuracy: 0.5202\n",
      "Epoch 60/100\n",
      "350/350 [==============================] - 89s 254ms/step - loss: 0.2326 - accuracy: 0.8660 - val_loss: 3.3545 - val_accuracy: 0.5215\n",
      "Epoch 61/100\n",
      "350/350 [==============================] - 89s 253ms/step - loss: 0.2269 - accuracy: 0.8683 - val_loss: 3.4531 - val_accuracy: 0.5134\n",
      "Epoch 62/100\n",
      "350/350 [==============================] - 89s 254ms/step - loss: 0.2251 - accuracy: 0.8682 - val_loss: 3.3250 - val_accuracy: 0.5184\n",
      "Epoch 63/100\n",
      "350/350 [==============================] - 89s 254ms/step - loss: 0.2287 - accuracy: 0.8669 - val_loss: 3.4625 - val_accuracy: 0.5204\n",
      "Epoch 64/100\n",
      "350/350 [==============================] - 89s 253ms/step - loss: 0.2254 - accuracy: 0.8686 - val_loss: 3.3676 - val_accuracy: 0.5210\n",
      "Epoch 65/100\n",
      "350/350 [==============================] - 89s 254ms/step - loss: 0.2204 - accuracy: 0.8698 - val_loss: 3.4602 - val_accuracy: 0.5192\n",
      "Epoch 66/100\n",
      "350/350 [==============================] - 89s 254ms/step - loss: 0.2214 - accuracy: 0.8699 - val_loss: 3.4149 - val_accuracy: 0.5098\n",
      "Epoch 67/100\n",
      "350/350 [==============================] - 89s 253ms/step - loss: 0.2218 - accuracy: 0.8696 - val_loss: 3.4508 - val_accuracy: 0.5209\n",
      "Epoch 68/100\n",
      "350/350 [==============================] - 89s 254ms/step - loss: 0.2192 - accuracy: 0.8712 - val_loss: 3.4887 - val_accuracy: 0.5231\n",
      "Epoch 69/100\n",
      "350/350 [==============================] - 89s 254ms/step - loss: 0.2195 - accuracy: 0.8713 - val_loss: 3.4688 - val_accuracy: 0.5212\n",
      "Epoch 70/100\n",
      "350/350 [==============================] - 89s 254ms/step - loss: 0.2228 - accuracy: 0.8693 - val_loss: 3.4189 - val_accuracy: 0.5186\n",
      "Epoch 71/100\n",
      "350/350 [==============================] - 89s 254ms/step - loss: 0.2210 - accuracy: 0.8711 - val_loss: 3.5114 - val_accuracy: 0.5186\n",
      "Epoch 72/100\n",
      "350/350 [==============================] - 89s 254ms/step - loss: 0.2221 - accuracy: 0.8711 - val_loss: 3.5764 - val_accuracy: 0.5212\n",
      "Epoch 73/100\n",
      "350/350 [==============================] - 89s 254ms/step - loss: 0.2240 - accuracy: 0.8697 - val_loss: 3.4075 - val_accuracy: 0.5225\n",
      "Epoch 74/100\n",
      "350/350 [==============================] - 89s 253ms/step - loss: 0.2238 - accuracy: 0.8696 - val_loss: 3.4066 - val_accuracy: 0.5087\n",
      "Epoch 75/100\n",
      "350/350 [==============================] - 89s 254ms/step - loss: 0.2209 - accuracy: 0.8704 - val_loss: 3.4339 - val_accuracy: 0.5250\n",
      "Epoch 76/100\n",
      "350/350 [==============================] - 89s 254ms/step - loss: 0.2161 - accuracy: 0.8733 - val_loss: 3.4862 - val_accuracy: 0.5092\n",
      "Epoch 77/100\n",
      "350/350 [==============================] - 89s 254ms/step - loss: 0.2173 - accuracy: 0.8703 - val_loss: 3.4736 - val_accuracy: 0.5215\n",
      "Epoch 78/100\n",
      "350/350 [==============================] - 89s 253ms/step - loss: 0.2172 - accuracy: 0.8716 - val_loss: 3.4902 - val_accuracy: 0.5221\n",
      "Epoch 79/100\n",
      "350/350 [==============================] - 89s 253ms/step - loss: 0.2178 - accuracy: 0.8706 - val_loss: 3.5341 - val_accuracy: 0.5219\n",
      "Epoch 80/100\n",
      "350/350 [==============================] - 89s 254ms/step - loss: 0.2160 - accuracy: 0.8723 - val_loss: 3.4605 - val_accuracy: 0.5203\n",
      "Epoch 81/100\n",
      "350/350 [==============================] - 89s 253ms/step - loss: 0.2164 - accuracy: 0.8703 - val_loss: 3.4923 - val_accuracy: 0.5213\n",
      "Epoch 82/100\n",
      "350/350 [==============================] - 88s 253ms/step - loss: 0.2185 - accuracy: 0.8714 - val_loss: 3.4555 - val_accuracy: 0.5193\n",
      "Epoch 83/100\n",
      "350/350 [==============================] - 89s 253ms/step - loss: 0.2190 - accuracy: 0.8715 - val_loss: 3.4613 - val_accuracy: 0.5209\n",
      "Epoch 84/100\n",
      "350/350 [==============================] - 89s 253ms/step - loss: 0.2208 - accuracy: 0.8700 - val_loss: 3.4658 - val_accuracy: 0.5220\n",
      "Epoch 85/100\n",
      "350/350 [==============================] - 89s 253ms/step - loss: 0.2163 - accuracy: 0.8726 - val_loss: 3.5035 - val_accuracy: 0.5219\n",
      "Epoch 86/100\n",
      "350/350 [==============================] - 89s 253ms/step - loss: 0.2130 - accuracy: 0.8724 - val_loss: 3.4553 - val_accuracy: 0.5210\n",
      "Epoch 87/100\n",
      "350/350 [==============================] - 89s 253ms/step - loss: 0.2132 - accuracy: 0.8737 - val_loss: 3.4830 - val_accuracy: 0.5210\n",
      "Epoch 88/100\n",
      "350/350 [==============================] - 89s 254ms/step - loss: 0.2133 - accuracy: 0.8723 - val_loss: 3.4614 - val_accuracy: 0.5230\n",
      "Epoch 89/100\n",
      "350/350 [==============================] - 89s 253ms/step - loss: 0.2097 - accuracy: 0.8731 - val_loss: 3.5401 - val_accuracy: 0.5153\n",
      "Epoch 90/100\n",
      "350/350 [==============================] - 89s 254ms/step - loss: 0.2084 - accuracy: 0.8736 - val_loss: 3.6332 - val_accuracy: 0.5200\n",
      "Epoch 91/100\n",
      "350/350 [==============================] - 89s 253ms/step - loss: 0.2104 - accuracy: 0.8742 - val_loss: 3.6139 - val_accuracy: 0.5217\n",
      "Epoch 92/100\n",
      "350/350 [==============================] - 89s 253ms/step - loss: 0.2122 - accuracy: 0.8727 - val_loss: 3.5241 - val_accuracy: 0.5142\n",
      "Epoch 93/100\n",
      "350/350 [==============================] - 89s 253ms/step - loss: 0.2166 - accuracy: 0.8723 - val_loss: 3.5212 - val_accuracy: 0.5214\n",
      "Epoch 94/100\n",
      "350/350 [==============================] - 89s 254ms/step - loss: 0.2173 - accuracy: 0.8723 - val_loss: 3.3919 - val_accuracy: 0.5192\n",
      "Epoch 95/100\n",
      "350/350 [==============================] - 89s 254ms/step - loss: 0.2174 - accuracy: 0.8717 - val_loss: 3.3806 - val_accuracy: 0.5184\n",
      "Epoch 96/100\n",
      "350/350 [==============================] - 89s 253ms/step - loss: 0.2116 - accuracy: 0.8743 - val_loss: 3.4270 - val_accuracy: 0.5203\n",
      "Epoch 97/100\n",
      "350/350 [==============================] - 89s 253ms/step - loss: 0.2075 - accuracy: 0.8747 - val_loss: 3.5004 - val_accuracy: 0.5223\n",
      "Epoch 98/100\n",
      "350/350 [==============================] - 88s 253ms/step - loss: 0.2062 - accuracy: 0.8755 - val_loss: 3.5549 - val_accuracy: 0.5203\n",
      "Epoch 99/100\n",
      "350/350 [==============================] - 89s 253ms/step - loss: 0.2040 - accuracy: 0.8752 - val_loss: 3.6512 - val_accuracy: 0.5222\n",
      "Epoch 100/100\n",
      "350/350 [==============================] - 89s 253ms/step - loss: 0.2065 - accuracy: 0.8758 - val_loss: 3.6591 - val_accuracy: 0.5212\n"
     ]
    }
   ],
   "source": [
    "# from keras import callbacks\n",
    "# earlystopping = callbacks.EarlyStopping(monitor =\"val_loss\", \n",
    "#                                         mode =\"min\", patience = 5, \n",
    "#                                         restore_best_weights = True)\n",
    "\n",
    "# model_log = model.fit(x_train, y_train, validation_data=(x_val, y_val),\n",
    "#           epochs=100, batch_size=128, callbacks =[earlystopping])\n",
    "\n",
    "model_log = model.fit(x_train, y_train, validation_data=(x_val, y_val),\n",
    "          epochs=100, batch_size=128)"
   ]
  },
  {
   "cell_type": "code",
   "execution_count": 159,
   "id": "a92b2951",
   "metadata": {},
   "outputs": [],
   "source": [
    "with open('log.pickle', 'wb') as f:\n",
    "    pickle.dump(model_log.history, f, pickle.HIGHEST_PROTOCOL)"
   ]
  },
  {
   "cell_type": "code",
   "execution_count": 160,
   "id": "a220fcab",
   "metadata": {},
   "outputs": [],
   "source": [
    "model.save('sentiment_analysis_model.h5')"
   ]
  },
  {
   "cell_type": "code",
   "execution_count": 112,
   "id": "02b7e2da",
   "metadata": {},
   "outputs": [],
   "source": [
    "classes = [\"Extremely happy\", \"happy\", \"neutral\", \"sad\",\"anger\"]"
   ]
  },
  {
   "cell_type": "code",
   "execution_count": 113,
   "id": "ff5848c0",
   "metadata": {},
   "outputs": [
    {
     "name": "stdout",
     "output_type": "stream",
     "text": [
      "689/689 [==============================] - 26s 33ms/step\n"
     ]
    },
    {
     "data": {
      "text/plain": [
       "array([[ 912, 2508,  414,  316,  253],\n",
       "       [1620, 2296,  194,  155,  124],\n",
       "       [ 376,  394, 3038,  308,  376],\n",
       "       [ 281,  277,  279, 2567,  973],\n",
       "       [ 228,  280,  314, 1066, 2495]], dtype=int64)"
      ]
     },
     "execution_count": 113,
     "metadata": {},
     "output_type": "execute_result"
    }
   ],
   "source": [
    "Y_test = np.argmax(y_val, axis=1) # Convert one-hot to index\n",
    "y_pred = model.predict(x_val)\n",
    "y_pred_class = np.argmax(y_pred,axis=1)\n",
    "cnf_matrix = confusion_matrix(Y_test, y_pred_class)\n",
    "confusion_matrix(Y_test, y_pred_class)"
   ]
  },
  {
   "cell_type": "code",
   "execution_count": 114,
   "id": "d6c33e42",
   "metadata": {},
   "outputs": [
    {
     "name": "stdout",
     "output_type": "stream",
     "text": [
      "                 precision    recall  f1-score   support\n",
      "\n",
      "Extremely happy       0.27      0.21      0.23      4403\n",
      "          happy       0.40      0.52      0.45      4389\n",
      "        neutral       0.72      0.68      0.70      4492\n",
      "            sad       0.58      0.59      0.58      4377\n",
      "          anger       0.59      0.57      0.58      4383\n",
      "\n",
      "       accuracy                           0.51     22044\n",
      "      macro avg       0.51      0.51      0.51     22044\n",
      "   weighted avg       0.51      0.51      0.51     22044\n",
      "\n"
     ]
    }
   ],
   "source": [
    "print(classification_report(Y_test, y_pred_class, target_names=classes))"
   ]
  },
  {
   "cell_type": "code",
   "execution_count": 115,
   "id": "f933b9ee",
   "metadata": {},
   "outputs": [
    {
     "data": {
      "image/png": "[encoded data removed]",
      "text/plain": [
       "<Figure size 2000x1000 with 2 Axes>"
      ]
     },
     "metadata": {},
     "output_type": "display_data"
    }
   ],
   "source": [
    "def plot_confusion_matrix(cm, labels,\n",
    "                          normalize=True,\n",
    "                          title='Confusion Matrix (Validation Set)',\n",
    "                          cmap=plt.cm.Blues):\n",
    "    \"\"\"\n",
    "    This function prints and plots the confusion matrix.\n",
    "    Normalization can be applied by setting `normalize=True`.\n",
    "    \"\"\"\n",
    "    if normalize:\n",
    "        cm = cm.astype('float') / cm.sum(axis=1)[:, np.newaxis]\n",
    "        #print(\"Normalized confusion matrix\")\n",
    "    else:\n",
    "        #print('Confusion matrix, without normalization')\n",
    "        pass\n",
    "\n",
    "    #print(cm)\n",
    "\n",
    "    plt.imshow(cm, interpolation='nearest', cmap=cmap)\n",
    "    plt.title(title)\n",
    "    plt.colorbar()\n",
    "    tick_marks = np.arange(len(labels))\n",
    "    plt.xticks(tick_marks, labels, rotation=45)\n",
    "    plt.yticks(tick_marks, labels)\n",
    "\n",
    "    fmt = '.2f' if normalize else 'd'\n",
    "    thresh = cm.max() / 2.\n",
    "    for i, j in itertools.product(range(cm.shape[0]), range(cm.shape[1])):\n",
    "        plt.text(j, i, format(cm[i, j], fmt),\n",
    "                 horizontalalignment=\"center\",\n",
    "                 color=\"white\" if cm[i, j] > thresh else \"black\")\n",
    "\n",
    "    plt.tight_layout()\n",
    "    plt.ylabel('True label')\n",
    "    plt.xlabel('Predicted label')\n",
    "\n",
    "plt.figure(figsize=(20,10))\n",
    "plot_confusion_matrix(cnf_matrix, labels=classes)\n"
   ]
  },
  {
   "cell_type": "code",
   "execution_count": 116,
   "id": "a722d56e",
   "metadata": {},
   "outputs": [
    {
     "data": {
      "text/plain": [
       "array([[    0,     0,     0, ...,  7659, 28419, 30200],\n",
       "       [    0,     0,     0, ..., 17077, 35348,  2699],\n",
       "       [    0,     0,     0, ...,  8772, 17155, 22687],\n",
       "       ...,\n",
       "       [    0,     0,     0, ..., 33655, 29051, 15668],\n",
       "       [    0,     0,     0, ...,  5215, 24499, 14205],\n",
       "       [    0,     0,     0, ..., 39952, 37017, 24892]])"
      ]
     },
     "execution_count": 116,
     "metadata": {},
     "output_type": "execute_result"
    }
   ],
   "source": [
    "x_train"
   ]
  },
  {
   "cell_type": "code",
   "execution_count": 166,
   "id": "610a91b2",
   "metadata": {},
   "outputs": [],
   "source": [
    "text = [\"anyways so my teacher was worried that i was gonna cry during the presentation but i didn t at the end of the da\",\n",
    "        \"It bad fuck worst\",\n",
    "        \"I am awesome\",\n",
    "        \"I am good\",\n",
    "        \"What a burden. Abit of a fail lunch with Dan\",\n",
    "        \"dges our dissertation is due and the strike is coming worried\",\n",
    "        \"angry\",\n",
    "       'I am not good','I am bad','I am not bad','I am worried','I am not worried','I am good','no good','no bad']\n",
    "\n"
   ]
  },
  {
   "cell_type": "code",
   "execution_count": null,
   "id": "daea9ac7",
   "metadata": {},
   "outputs": [],
   "source": []
  },
  {
   "cell_type": "code",
   "execution_count": 167,
   "id": "b1cedc56",
   "metadata": {},
   "outputs": [
    {
     "name": "stdout",
     "output_type": "stream",
     "text": [
      "0\n",
      "anyways so my teacher was worried that i was gonna cry during the presentation but i didn t at the end of the da\n",
      "anyway teacher worry donna cry during presentation end da\n",
      "1\n",
      "It bad fuck worst\n",
      "bad fuck worst\n",
      "2\n",
      "I am awesome\n",
      "awesome\n",
      "3\n",
      "I am good\n",
      "good\n",
      "4\n",
      "What a burden. Abit of a fail lunch with Dan\n",
      "burden bite fail lunch dan\n",
      "5\n",
      "dges our dissertation is due and the strike is coming worried\n",
      "dissertation due strike come worry\n",
      "6\n",
      "angry\n",
      "angry\n",
      "7\n",
      "I am not good\n",
      "not good\n",
      "8\n",
      "I am bad\n",
      "bad\n",
      "9\n",
      "I am not bad\n",
      "not bad\n",
      "10\n",
      "I am worried\n",
      "worry\n",
      "11\n",
      "I am not worried\n",
      "not worry\n",
      "12\n",
      "I am good\n",
      "good\n",
      "13\n",
      "no good\n",
      "no good\n",
      "14\n",
      "no bad\n",
      "no bad\n"
     ]
    }
   ],
   "source": [
    "corpus_test = []\n",
    "for i in range(0, len(text)):\n",
    "    print(i)\n",
    "    review = text[i].split()\n",
    "    review= [word for word in review if not word.startswith('@') ]\n",
    "    review = ' '.join(review)\n",
    "    \n",
    "    review = re.sub('[^a-zA-Z]', ' ',review)\n",
    "    review = review.lower()\n",
    "    \n",
    "    review= str(TextBlob(review).correct())\n",
    "    \n",
    "    review = word_tokenize(review)\n",
    "    final=[]\n",
    "    for word in review:\n",
    "         if word.endswith(\"'t\"):\n",
    "            word='not'\n",
    "         if word not in stopwords:\n",
    "#             final.append(word)\n",
    "#          else:\n",
    "#             final.append(ps.stem(word))\n",
    "            final.append(wl.lemmatize(word,pos='v'))\n",
    "    \n",
    "    final = ' '.join(final)\n",
    "    print(text[i])\n",
    "    print(final)\n",
    "    corpus_test.append(final)"
   ]
  },
  {
   "cell_type": "code",
   "execution_count": 139,
   "id": "20b06079",
   "metadata": {},
   "outputs": [],
   "source": [
    "\n",
    "# with open('tokenizer.pickle', 'rb') as handle:\n",
    "#     tokenizer = pickle.load(handle)\n",
    "\n",
    "# sequences_test = tokenizer.texts_to_sequences(corpus_test)\n",
    "\n",
    "# data_test = pad_sequences(sequences_test, padding='post', maxlen=maxlen)\n",
    "# y_prob = model.predict(data_test)\n",
    "# print( np.argmax(y_prob[2]))\n",
    "# for n, prediction in enumerate(y_prob):\n",
    "#     pred = np.argmax(y_prob,axis=1)[n]\n",
    "#     print(text[n],\"\\nPrediction:\",classes[pred],\"\\n\")\n",
    "# print(tokenizer.sequences_to_texts(data_test))"
   ]
  },
  {
   "cell_type": "code",
   "execution_count": 168,
   "id": "68339fef",
   "metadata": {},
   "outputs": [],
   "source": [
    "onehot_test=[one_hot(words,MAX_NB_WORDS)for words in corpus_test] "
   ]
  },
  {
   "cell_type": "code",
   "execution_count": 169,
   "id": "edc9a120",
   "metadata": {},
   "outputs": [
    {
     "name": "stdout",
     "output_type": "stream",
     "text": [
      "[[    0     0     0 ... 20984 24948 34636]\n",
      " [    0     0     0 ...  3646 22701 17746]\n",
      " [    0     0     0 ...     0     0 23355]\n",
      " ...\n",
      " [    0     0     0 ...     0     0 23799]\n",
      " [    0     0     0 ...     0  6224 23799]\n",
      " [    0     0     0 ...     0  6224  3646]]\n"
     ]
    }
   ],
   "source": [
    "embedded_docs=pad_sequences(onehot_test,padding='pre',maxlen=maxlen)\n",
    "print(embedded_docs)"
   ]
  },
  {
   "cell_type": "code",
   "execution_count": 170,
   "id": "bc1afca5",
   "metadata": {},
   "outputs": [
    {
     "data": {
      "text/plain": [
       "array([[    0,     0,     0, ..., 20984, 24948, 34636],\n",
       "       [    0,     0,     0, ...,  3646, 22701, 17746],\n",
       "       [    0,     0,     0, ...,     0,     0, 23355],\n",
       "       ...,\n",
       "       [    0,     0,     0, ...,     0,     0, 23799],\n",
       "       [    0,     0,     0, ...,     0,  6224, 23799],\n",
       "       [    0,     0,     0, ...,     0,  6224,  3646]])"
      ]
     },
     "execution_count": 170,
     "metadata": {},
     "output_type": "execute_result"
    }
   ],
   "source": [
    "data_test=np.array(embedded_docs)\n",
    "data_test"
   ]
  },
  {
   "cell_type": "code",
   "execution_count": 161,
   "id": "ad0d4551",
   "metadata": {},
   "outputs": [],
   "source": [
    "with open('log.pickle', 'rb') as f:\n",
    "    log = pickle.load(f)"
   ]
  },
  {
   "cell_type": "code",
   "execution_count": null,
   "id": "d6e72352",
   "metadata": {},
   "outputs": [],
   "source": [
    "y_pred = model.predict(data_test)\n",
    "y_pred_class = np.argmax(y_pred,axis=1)\n",
    "np.argmax(y_pred,axis=1)\n",
    "# for n, prediction in enumerate(y_pred):\n",
    "#     pred = np.argmax(y_prob,axis=1)[n]\n",
    "#     print(text[n],\"\\nPrediction:\",classes[pred],\"\\n\")\n"
   ]
  },
  {
   "cell_type": "code",
   "execution_count": 162,
   "id": "872e0b20",
   "metadata": {},
   "outputs": [
    {
     "data": {
      "image/png": "[encoded data removed]",
      "text/plain": [
       "<Figure size 640x480 with 1 Axes>"
      ]
     },
     "metadata": {},
     "output_type": "display_data"
    }
   ],
   "source": [
    "plt.title('Loss')\n",
    "plt.plot(log['loss'], label='train')\n",
    "plt.plot(log['val_loss'], label='test')\n",
    "plt.legend()\n",
    "plt.show();"
   ]
  },
  {
   "cell_type": "code",
   "execution_count": 163,
   "id": "cb7d216a",
   "metadata": {},
   "outputs": [
    {
     "data": {
      "image/png": "[encoded data removed]",
      "text/plain": [
       "<Figure size 640x480 with 1 Axes>"
      ]
     },
     "metadata": {},
     "output_type": "display_data"
    }
   ],
   "source": [
    "plt.title('Accuracy')\n",
    "plt.plot(log['accuracy'], label='train')\n",
    "plt.plot(log['val_accuracy'], label='test')\n",
    "plt.legend()\n",
    "plt.show();"
   ]
  },
  {
   "cell_type": "code",
   "execution_count": 2,
   "id": "0f4a793e",
   "metadata": {},
   "outputs": [],
   "source": [
    "# plt.title('Accuracy')\n",
    "# plt.plot(model_log.history['accuracy'], label='train')\n",
    "# plt.plot(model_log.history['val_accuracy'], label='test')\n",
    "# plt.legend()\n",
    "# plt.show();"
   ]
  },
  {
   "cell_type": "code",
   "execution_count": null,
   "id": "316a46f9",
   "metadata": {},
   "outputs": [],
   "source": []
  },
  {
   "cell_type": "code",
   "execution_count": null,
   "id": "70c3a114",
   "metadata": {},
   "outputs": [],
   "source": []
  }
 ],
 "metadata": {
  "kernelspec": {
   "display_name": "machine_learning",
   "language": "python",
   "name": "machine_learning"
  },
  "language_info": {
   "codemirror_mode": {
    "name": "ipython",
    "version": 3
   },
   "file_extension": ".py",
   "mimetype": "text/x-python",
   "name": "python",
   "nbconvert_exporter": "python",
   "pygments_lexer": "ipython3",
   "version": "3.10.6"
  }
 },
 "nbformat": 4,
 "nbformat_minor": 5
}
