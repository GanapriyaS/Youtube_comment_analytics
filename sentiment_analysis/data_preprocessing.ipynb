{
 "cells": [
  {
   "cell_type": "code",
   "execution_count": 18,
   "id": "7baa42ed",
   "metadata": {},
   "outputs": [],
   "source": [
    "from sklearn.utils import resample\n",
    "import pandas as pd"
   ]
  },
  {
   "cell_type": "code",
   "execution_count": 19,
   "id": "2f5ea40e",
   "metadata": {},
   "outputs": [],
   "source": [
    "df=pd.read_csv('train.csv')\n",
    "df.columns=[\"text\",\"value\"]"
   ]
  },
  {
   "cell_type": "code",
   "execution_count": 20,
   "id": "b60af017",
   "metadata": {
    "scrolled": true
   },
   "outputs": [
    {
     "data": {
      "text/html": [
       "<div>\n",
       "<style scoped>\n",
       "    .dataframe tbody tr th:only-of-type {\n",
       "        vertical-align: middle;\n",
       "    }\n",
       "\n",
       "    .dataframe tbody tr th {\n",
       "        vertical-align: top;\n",
       "    }\n",
       "\n",
       "    .dataframe thead th {\n",
       "        text-align: right;\n",
       "    }\n",
       "</style>\n",
       "<table border=\"1\" class=\"dataframe\">\n",
       "  <thead>\n",
       "    <tr style=\"text-align: right;\">\n",
       "      <th></th>\n",
       "      <th>text</th>\n",
       "      <th>value</th>\n",
       "    </tr>\n",
       "  </thead>\n",
       "  <tbody>\n",
       "    <tr>\n",
       "      <th>0</th>\n",
       "      <td>Your Chanel amazing💕😍 💯💯💯</td>\n",
       "      <td>0.0</td>\n",
       "    </tr>\n",
       "    <tr>\n",
       "      <th>1</th>\n",
       "      <td>CS IT Preparation ke liye ye channel best h:- ...</td>\n",
       "      <td>0.0</td>\n",
       "    </tr>\n",
       "    <tr>\n",
       "      <th>2</th>\n",
       "      <td>Ye video dekhne wale log hai isi hisab se dekh...</td>\n",
       "      <td>0.0</td>\n",
       "    </tr>\n",
       "    <tr>\n",
       "      <th>3</th>\n",
       "      <td>🙏 good lecture</td>\n",
       "      <td>0.0</td>\n",
       "    </tr>\n",
       "    <tr>\n",
       "      <th>4</th>\n",
       "      <td>Best thanks for video</td>\n",
       "      <td>0.0</td>\n",
       "    </tr>\n",
       "    <tr>\n",
       "      <th>...</th>\n",
       "      <td>...</td>\n",
       "      <td>...</td>\n",
       "    </tr>\n",
       "    <tr>\n",
       "      <th>14122</th>\n",
       "      <td>Never hot water la maranthurunga 😴</td>\n",
       "      <td>5.0</td>\n",
       "    </tr>\n",
       "    <tr>\n",
       "      <th>14123</th>\n",
       "      <td>Programmer pradeep</td>\n",
       "      <td>5.0</td>\n",
       "    </tr>\n",
       "    <tr>\n",
       "      <th>14124</th>\n",
       "      <td>Haha yesss.. 😄 🤣</td>\n",
       "      <td>5.0</td>\n",
       "    </tr>\n",
       "    <tr>\n",
       "      <th>14125</th>\n",
       "      <td>back when anand had hair and adhi didn&amp;#39;t</td>\n",
       "      <td>5.0</td>\n",
       "    </tr>\n",
       "    <tr>\n",
       "      <th>14126</th>\n",
       "      <td>@Vishnu sivanantham &lt;br&gt;Mmm</td>\n",
       "      <td>5.0</td>\n",
       "    </tr>\n",
       "  </tbody>\n",
       "</table>\n",
       "<p>14127 rows × 2 columns</p>\n",
       "</div>"
      ],
      "text/plain": [
       "                                                    text  value\n",
       "0                              Your Chanel amazing💕😍 💯💯💯    0.0\n",
       "1      CS IT Preparation ke liye ye channel best h:- ...    0.0\n",
       "2      Ye video dekhne wale log hai isi hisab se dekh...    0.0\n",
       "3                                         🙏 good lecture    0.0\n",
       "4                                  Best thanks for video    0.0\n",
       "...                                                  ...    ...\n",
       "14122                 Never hot water la maranthurunga 😴    5.0\n",
       "14123                                 Programmer pradeep    5.0\n",
       "14124                                   Haha yesss.. 😄 🤣    5.0\n",
       "14125       back when anand had hair and adhi didn&#39;t    5.0\n",
       "14126                        @Vishnu sivanantham <br>Mmm    5.0\n",
       "\n",
       "[14127 rows x 2 columns]"
      ]
     },
     "execution_count": 20,
     "metadata": {},
     "output_type": "execute_result"
    }
   ],
   "source": [
    "df"
   ]
  },
  {
   "cell_type": "code",
   "execution_count": 21,
   "id": "248ffbc9",
   "metadata": {},
   "outputs": [],
   "source": [
    "df = df.drop_duplicates(subset=['text'], keep='first')"
   ]
  },
  {
   "cell_type": "code",
   "execution_count": 22,
   "id": "bc86b5d6",
   "metadata": {},
   "outputs": [
    {
     "name": "stderr",
     "output_type": "stream",
     "text": [
      "C:\\Users\\ganap\\AppData\\Local\\Temp\\ipykernel_12268\\237327957.py:1: SettingWithCopyWarning: \n",
      "A value is trying to be set on a copy of a slice from a DataFrame.\n",
      "Try using .loc[row_indexer,col_indexer] = value instead\n",
      "\n",
      "See the caveats in the documentation: https://pandas.pydata.org/pandas-docs/stable/user_guide/indexing.html#returning-a-view-versus-a-copy\n",
      "  df['value'] = df['value'].astype(int)\n"
     ]
    },
    {
     "data": {
      "text/html": [
       "<div>\n",
       "<style scoped>\n",
       "    .dataframe tbody tr th:only-of-type {\n",
       "        vertical-align: middle;\n",
       "    }\n",
       "\n",
       "    .dataframe tbody tr th {\n",
       "        vertical-align: top;\n",
       "    }\n",
       "\n",
       "    .dataframe thead th {\n",
       "        text-align: right;\n",
       "    }\n",
       "</style>\n",
       "<table border=\"1\" class=\"dataframe\">\n",
       "  <thead>\n",
       "    <tr style=\"text-align: right;\">\n",
       "      <th></th>\n",
       "      <th>text</th>\n",
       "      <th>value</th>\n",
       "    </tr>\n",
       "  </thead>\n",
       "  <tbody>\n",
       "    <tr>\n",
       "      <th>0</th>\n",
       "      <td>Your Chanel amazing💕😍 💯💯💯</td>\n",
       "      <td>0</td>\n",
       "    </tr>\n",
       "    <tr>\n",
       "      <th>1</th>\n",
       "      <td>CS IT Preparation ke liye ye channel best h:- ...</td>\n",
       "      <td>0</td>\n",
       "    </tr>\n",
       "    <tr>\n",
       "      <th>2</th>\n",
       "      <td>Ye video dekhne wale log hai isi hisab se dekh...</td>\n",
       "      <td>0</td>\n",
       "    </tr>\n",
       "    <tr>\n",
       "      <th>3</th>\n",
       "      <td>🙏 good lecture</td>\n",
       "      <td>0</td>\n",
       "    </tr>\n",
       "    <tr>\n",
       "      <th>4</th>\n",
       "      <td>Best thanks for video</td>\n",
       "      <td>0</td>\n",
       "    </tr>\n",
       "    <tr>\n",
       "      <th>...</th>\n",
       "      <td>...</td>\n",
       "      <td>...</td>\n",
       "    </tr>\n",
       "    <tr>\n",
       "      <th>14122</th>\n",
       "      <td>Never hot water la maranthurunga 😴</td>\n",
       "      <td>5</td>\n",
       "    </tr>\n",
       "    <tr>\n",
       "      <th>14123</th>\n",
       "      <td>Programmer pradeep</td>\n",
       "      <td>5</td>\n",
       "    </tr>\n",
       "    <tr>\n",
       "      <th>14124</th>\n",
       "      <td>Haha yesss.. 😄 🤣</td>\n",
       "      <td>5</td>\n",
       "    </tr>\n",
       "    <tr>\n",
       "      <th>14125</th>\n",
       "      <td>back when anand had hair and adhi didn&amp;#39;t</td>\n",
       "      <td>5</td>\n",
       "    </tr>\n",
       "    <tr>\n",
       "      <th>14126</th>\n",
       "      <td>@Vishnu sivanantham &lt;br&gt;Mmm</td>\n",
       "      <td>5</td>\n",
       "    </tr>\n",
       "  </tbody>\n",
       "</table>\n",
       "<p>14118 rows × 2 columns</p>\n",
       "</div>"
      ],
      "text/plain": [
       "                                                    text  value\n",
       "0                              Your Chanel amazing💕😍 💯💯💯      0\n",
       "1      CS IT Preparation ke liye ye channel best h:- ...      0\n",
       "2      Ye video dekhne wale log hai isi hisab se dekh...      0\n",
       "3                                         🙏 good lecture      0\n",
       "4                                  Best thanks for video      0\n",
       "...                                                  ...    ...\n",
       "14122                 Never hot water la maranthurunga 😴      5\n",
       "14123                                 Programmer pradeep      5\n",
       "14124                                   Haha yesss.. 😄 🤣      5\n",
       "14125       back when anand had hair and adhi didn&#39;t      5\n",
       "14126                        @Vishnu sivanantham <br>Mmm      5\n",
       "\n",
       "[14118 rows x 2 columns]"
      ]
     },
     "execution_count": 22,
     "metadata": {},
     "output_type": "execute_result"
    }
   ],
   "source": [
    "df['value'] = df['value'].astype(int)\n",
    "df"
   ]
  },
  {
   "cell_type": "code",
   "execution_count": 23,
   "id": "964a4e64",
   "metadata": {},
   "outputs": [
    {
     "data": {
      "text/plain": [
       "text     object\n",
       "value     int32\n",
       "dtype: object"
      ]
     },
     "execution_count": 23,
     "metadata": {},
     "output_type": "execute_result"
    }
   ],
   "source": [
    "df.dtypes"
   ]
  },
  {
   "cell_type": "code",
   "execution_count": 24,
   "id": "7dd3661b",
   "metadata": {},
   "outputs": [
    {
     "name": "stdout",
     "output_type": "stream",
     "text": [
      "['Happy', 'Question', 'Request', 'Information', 'Unsatisfied', 'Irrelevant']\n"
     ]
    },
    {
     "data": {
      "text/html": [
       "<div>\n",
       "<style scoped>\n",
       "    .dataframe tbody tr th:only-of-type {\n",
       "        vertical-align: middle;\n",
       "    }\n",
       "\n",
       "    .dataframe tbody tr th {\n",
       "        vertical-align: top;\n",
       "    }\n",
       "\n",
       "    .dataframe thead th {\n",
       "        text-align: right;\n",
       "    }\n",
       "</style>\n",
       "<table border=\"1\" class=\"dataframe\">\n",
       "  <thead>\n",
       "    <tr style=\"text-align: right;\">\n",
       "      <th></th>\n",
       "      <th>text</th>\n",
       "    </tr>\n",
       "    <tr>\n",
       "      <th>value</th>\n",
       "      <th></th>\n",
       "    </tr>\n",
       "  </thead>\n",
       "  <tbody>\n",
       "    <tr>\n",
       "      <th>0</th>\n",
       "      <td>5210</td>\n",
       "    </tr>\n",
       "    <tr>\n",
       "      <th>1</th>\n",
       "      <td>1978</td>\n",
       "    </tr>\n",
       "    <tr>\n",
       "      <th>2</th>\n",
       "      <td>2553</td>\n",
       "    </tr>\n",
       "    <tr>\n",
       "      <th>3</th>\n",
       "      <td>1042</td>\n",
       "    </tr>\n",
       "    <tr>\n",
       "      <th>4</th>\n",
       "      <td>2281</td>\n",
       "    </tr>\n",
       "    <tr>\n",
       "      <th>5</th>\n",
       "      <td>1054</td>\n",
       "    </tr>\n",
       "  </tbody>\n",
       "</table>\n",
       "</div>"
      ],
      "text/plain": [
       "       text\n",
       "value      \n",
       "0      5210\n",
       "1      1978\n",
       "2      2553\n",
       "3      1042\n",
       "4      2281\n",
       "5      1054"
      ]
     },
     "execution_count": 24,
     "metadata": {},
     "output_type": "execute_result"
    }
   ],
   "source": [
    "print([\"Happy\", \"Question\", \"Request\", \"Information\",\"Unsatisfied\",\"Irrelevant\"])\n",
    "df.groupby('value').count()"
   ]
  },
  {
   "cell_type": "code",
   "execution_count": 32,
   "id": "4bd3aac9",
   "metadata": {},
   "outputs": [],
   "source": [
    "data_minority_0 = df[df['value'] == 0]\n",
    "data_minority_4 = df[df['value'] == 4]\n",
    "data_minority_2 = df[df['value'] == 2]\n",
    "data_minority_1 = df[df['value'] == 1]\n",
    "data_minority_3 = df[df['value'] == 3]\n",
    "data_minority_5 = df[df['value'] == 5]"
   ]
  },
  {
   "cell_type": "code",
   "execution_count": 33,
   "id": "023ce732",
   "metadata": {},
   "outputs": [
    {
     "data": {
      "text/plain": [
       "5210"
      ]
     },
     "execution_count": 33,
     "metadata": {},
     "output_type": "execute_result"
    }
   ],
   "source": [
    "data_minority_0.shape[0]"
   ]
  },
  {
   "cell_type": "code",
   "execution_count": 34,
   "id": "7374cd47",
   "metadata": {},
   "outputs": [],
   "source": [
    "# Upsample minority class\n",
    "data_minority_upsampled_4 = resample(data_minority_4, \n",
    "                                 replace=True,     # sample with replacement\n",
    "                                 n_samples= 1700,    # to match majority class\n",
    "                                 random_state=123) # reproducible results\n",
    "data_minority_upsampled_2 = resample(data_minority_2, \n",
    "                                 replace=True,     # sample with replacement\n",
    "                                 n_samples= 1700,    # to match majority class\n",
    "                                 random_state=123) # reproducible results\n",
    "data_minority_upsampled_1 = resample(data_minority_1, \n",
    "                                 replace=True,     # sample with replacement\n",
    "                                 n_samples= 1700,    # to match majority class\n",
    "                                 random_state=123) # reproducible results\n",
    "data_minority_upsampled_3 = resample(data_minority_3, \n",
    "                                 replace=True,     # sample with replacement\n",
    "                                 n_samples= 1700,    # to match majority class\n",
    "                                 random_state=123) # reproducible results\n",
    "data_minority_upsampled_0 = resample(data_minority_0, \n",
    "                                 replace=True,     # sample with replacement\n",
    "                                 n_samples= 1700,    # to match majority class\n",
    "                                 random_state=123) # reproducible results\n",
    "data_minority_upsampled_5 = resample(data_minority_5, \n",
    "                                 replace=True,     # sample with replacement\n",
    "                                 n_samples= 1700,    # to match majority class\n",
    "                                 random_state=123) # reproducible results\n",
    " \n",
    "data_upsampled = pd.concat([data_minority_upsampled_0, data_minority_upsampled_3,data_minority_upsampled_5,data_minority_upsampled_2,data_minority_upsampled_4,data_minority_upsampled_1])"
   ]
  },
  {
   "cell_type": "code",
   "execution_count": 35,
   "id": "d07479e8",
   "metadata": {},
   "outputs": [
    {
     "data": {
      "text/html": [
       "<div>\n",
       "<style scoped>\n",
       "    .dataframe tbody tr th:only-of-type {\n",
       "        vertical-align: middle;\n",
       "    }\n",
       "\n",
       "    .dataframe tbody tr th {\n",
       "        vertical-align: top;\n",
       "    }\n",
       "\n",
       "    .dataframe thead th {\n",
       "        text-align: right;\n",
       "    }\n",
       "</style>\n",
       "<table border=\"1\" class=\"dataframe\">\n",
       "  <thead>\n",
       "    <tr style=\"text-align: right;\">\n",
       "      <th></th>\n",
       "      <th>text</th>\n",
       "    </tr>\n",
       "    <tr>\n",
       "      <th>value</th>\n",
       "      <th></th>\n",
       "    </tr>\n",
       "  </thead>\n",
       "  <tbody>\n",
       "    <tr>\n",
       "      <th>0</th>\n",
       "      <td>1700</td>\n",
       "    </tr>\n",
       "    <tr>\n",
       "      <th>1</th>\n",
       "      <td>1700</td>\n",
       "    </tr>\n",
       "    <tr>\n",
       "      <th>2</th>\n",
       "      <td>1700</td>\n",
       "    </tr>\n",
       "    <tr>\n",
       "      <th>3</th>\n",
       "      <td>1700</td>\n",
       "    </tr>\n",
       "    <tr>\n",
       "      <th>4</th>\n",
       "      <td>1700</td>\n",
       "    </tr>\n",
       "    <tr>\n",
       "      <th>5</th>\n",
       "      <td>1700</td>\n",
       "    </tr>\n",
       "  </tbody>\n",
       "</table>\n",
       "</div>"
      ],
      "text/plain": [
       "       text\n",
       "value      \n",
       "0      1700\n",
       "1      1700\n",
       "2      1700\n",
       "3      1700\n",
       "4      1700\n",
       "5      1700"
      ]
     },
     "execution_count": 35,
     "metadata": {},
     "output_type": "execute_result"
    }
   ],
   "source": [
    "data_upsampled.groupby('value').count()"
   ]
  },
  {
   "cell_type": "code",
   "execution_count": 36,
   "id": "0f5ae08e",
   "metadata": {},
   "outputs": [
    {
     "data": {
      "text/html": [
       "<div>\n",
       "<style scoped>\n",
       "    .dataframe tbody tr th:only-of-type {\n",
       "        vertical-align: middle;\n",
       "    }\n",
       "\n",
       "    .dataframe tbody tr th {\n",
       "        vertical-align: top;\n",
       "    }\n",
       "\n",
       "    .dataframe thead th {\n",
       "        text-align: right;\n",
       "    }\n",
       "</style>\n",
       "<table border=\"1\" class=\"dataframe\">\n",
       "  <thead>\n",
       "    <tr style=\"text-align: right;\">\n",
       "      <th></th>\n",
       "      <th>text</th>\n",
       "      <th>value</th>\n",
       "    </tr>\n",
       "  </thead>\n",
       "  <tbody>\n",
       "    <tr>\n",
       "      <th>3582</th>\n",
       "      <td>Wooow, i start learning and first listen about...</td>\n",
       "      <td>0</td>\n",
       "    </tr>\n",
       "    <tr>\n",
       "      <th>3454</th>\n",
       "      <td>Sir America under great crisis is it safe for ...</td>\n",
       "      <td>0</td>\n",
       "    </tr>\n",
       "    <tr>\n",
       "      <th>1346</th>\n",
       "      <td>Thank you so much.</td>\n",
       "      <td>0</td>\n",
       "    </tr>\n",
       "    <tr>\n",
       "      <th>4060</th>\n",
       "      <td>@brb4r  Oh Great! All the best bro</td>\n",
       "      <td>0</td>\n",
       "    </tr>\n",
       "    <tr>\n",
       "      <th>1593</th>\n",
       "      <td>Kitni OSM he ye yaar ❤️</td>\n",
       "      <td>0</td>\n",
       "    </tr>\n",
       "    <tr>\n",
       "      <th>...</th>\n",
       "      <td>...</td>\n",
       "      <td>...</td>\n",
       "    </tr>\n",
       "    <tr>\n",
       "      <th>6717</th>\n",
       "      <td>@Patrick Moore ???</td>\n",
       "      <td>1</td>\n",
       "    </tr>\n",
       "    <tr>\n",
       "      <th>6014</th>\n",
       "      <td>Hello sir,&lt;br&gt;I am cse first year student 2020...</td>\n",
       "      <td>1</td>\n",
       "    </tr>\n",
       "    <tr>\n",
       "      <th>6738</th>\n",
       "      <td>@CR7 FanClub will I get time to prepare for go...</td>\n",
       "      <td>1</td>\n",
       "    </tr>\n",
       "    <tr>\n",
       "      <th>6672</th>\n",
       "      <td>How to improve problem solving skills?</td>\n",
       "      <td>1</td>\n",
       "    </tr>\n",
       "    <tr>\n",
       "      <th>5994</th>\n",
       "      <td>But last year you have given two papers one EC...</td>\n",
       "      <td>1</td>\n",
       "    </tr>\n",
       "  </tbody>\n",
       "</table>\n",
       "<p>10200 rows × 2 columns</p>\n",
       "</div>"
      ],
      "text/plain": [
       "                                                   text  value\n",
       "3582  Wooow, i start learning and first listen about...      0\n",
       "3454  Sir America under great crisis is it safe for ...      0\n",
       "1346                                 Thank you so much.      0\n",
       "4060                 @brb4r  Oh Great! All the best bro      0\n",
       "1593                            Kitni OSM he ye yaar ❤️      0\n",
       "...                                                 ...    ...\n",
       "6717                                 @Patrick Moore ???      1\n",
       "6014  Hello sir,<br>I am cse first year student 2020...      1\n",
       "6738  @CR7 FanClub will I get time to prepare for go...      1\n",
       "6672             How to improve problem solving skills?      1\n",
       "5994  But last year you have given two papers one EC...      1\n",
       "\n",
       "[10200 rows x 2 columns]"
      ]
     },
     "execution_count": 36,
     "metadata": {},
     "output_type": "execute_result"
    }
   ],
   "source": [
    "data_upsampled"
   ]
  },
  {
   "cell_type": "code",
   "execution_count": 38,
   "id": "b7d11fc1",
   "metadata": {},
   "outputs": [],
   "source": [
    "data_upsampled.to_csv(\"final_dataset.csv\")"
   ]
  },
  {
   "cell_type": "code",
   "execution_count": null,
   "id": "b3c124cf",
   "metadata": {},
   "outputs": [],
   "source": []
  }
 ],
 "metadata": {
  "kernelspec": {
   "display_name": "machine_learning",
   "language": "python",
   "name": "machine_learning"
  },
  "language_info": {
   "codemirror_mode": {
    "name": "ipython",
    "version": 3
   },
   "file_extension": ".py",
   "mimetype": "text/x-python",
   "name": "python",
   "nbconvert_exporter": "python",
   "pygments_lexer": "ipython3",
   "version": "3.10.6"
  }
 },
 "nbformat": 4,
 "nbformat_minor": 5
}
